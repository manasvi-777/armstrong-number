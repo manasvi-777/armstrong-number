{
 "cells": [
  {
   "cell_type": "code",
   "execution_count": null,
   "id": "c8951cb6",
   "metadata": {},
   "outputs": [],
   "source": [
    "'''\n",
    "Write a Python program using while loop to get numbers until -1 is encountered. Find the count of the Amstrong Numbers present in the given set of numbers and display the count for both the cases.\n",
    "\n",
    "Input : Get numbers from the user separated by a space until -1 is encountered.\n",
    "\n",
    "Output: Display the \"AmstrongCount\" and the \"NonAmstrongCount\" using the respective variable names specified.\n",
    "\n",
    "Test case1\n",
    "\n",
    "1\n",
    "153\n",
    "155\n",
    "9\n",
    "-1\n",
    "\n",
    "Output:\n",
    "\n",
    "AmstrongCount is 3\n",
    "NonAmstrongCount is 1\n",
    "\n",
    "\n",
    "\n",
    "Testcase2:\n",
    "\n",
    "Input:\n",
    "\n",
    "0\n",
    "9474\n",
    "370\n",
    "371\n",
    "300\n",
    "-1\n",
    "\n",
    "Output:\n",
    "\n",
    "AmstrongCount is 4\n",
    "NonAmstrongCount is 1\n",
    "'''"
   ]
  },
  {
   "cell_type": "code",
   "execution_count": 16,
   "id": "64e37a90",
   "metadata": {},
   "outputs": [
    {
     "name": "stdout",
     "output_type": "stream",
     "text": [
      "0\n",
      "9474\n",
      "370\n",
      "371\n",
      "300\n",
      "-1\n",
      "ArmstrongCount is 4\n",
      "NonArmstrongCount is 1\n"
     ]
    }
   ],
   "source": [
    "n=int(input())\n",
    "l=[]\n",
    "l_sum=[]\n",
    "sum=0\n",
    "a_count=0\n",
    "nona_count=0\n",
    "\n",
    "if n==-1:\n",
    "    sys.exit()  # terminates the program\n",
    "else:\n",
    "    l.append(n)  # adding inputted values to the list l\n",
    "    \n",
    "    # inputting numbers till -1 is encountered\n",
    "    while n!=-1: \n",
    "        n=int(input())\n",
    "        l.append(n)\n",
    "        if n==-1:\n",
    "            break\n",
    "            \n",
    "    # removing -1 from list of numbers l\n",
    "    l.remove(-1) \n",
    "    \n",
    "    # evaluating sum of all digits raised t the power of the number of digits/len\n",
    "    for i in l:\n",
    "        num=i\n",
    "        p=len(str(i))\n",
    "        while num>0:\n",
    "            digit=num%10\n",
    "            num=num//10\n",
    "            sum=sum+(digit)**p \n",
    "        l_sum.append(sum)\n",
    "        sum=0\n",
    "    \n",
    "    # checking if the sum of digits raised to the power of number of digits is equal to number itself(armstrong number)\n",
    "    for j in range(len(l)):\n",
    "        if l[j]==l_sum[j]:\n",
    "            a_count+=1\n",
    "        else:\n",
    "            nona_count+=1\n",
    "\n",
    "# printing armstrong number count and non-armstrong number count\n",
    "print(\"ArmstrongCount is\",a_count)\n",
    "print(\"NonArmstrongCount is\",nona_count)"
   ]
  }
 ],
 "metadata": {
  "kernelspec": {
   "display_name": "Python 3 (ipykernel)",
   "language": "python",
   "name": "python3"
  },
  "language_info": {
   "codemirror_mode": {
    "name": "ipython",
    "version": 3
   },
   "file_extension": ".py",
   "mimetype": "text/x-python",
   "name": "python",
   "nbconvert_exporter": "python",
   "pygments_lexer": "ipython3",
   "version": "3.9.13"
  }
 },
 "nbformat": 4,
 "nbformat_minor": 5
}
